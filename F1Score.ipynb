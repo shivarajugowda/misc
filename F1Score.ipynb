{
 "cells": [
  {
   "cell_type": "code",
   "execution_count": 1,
   "metadata": {},
   "outputs": [],
   "source": [
    "from sklearn.metrics import f1_score\n",
    "import numpy as np"
   ]
  },
  {
   "cell_type": "code",
   "execution_count": 2,
   "metadata": {},
   "outputs": [],
   "source": [
    "# Borrowed from http://vict0rsch.github.io/2018/06/06/tensorflow-streaming-multilabel-f1/\n",
    "def alter_data(_data):\n",
    "    data = _data.copy()\n",
    "    new_data = []\n",
    "    for d in data:\n",
    "        for i, l in enumerate(d):\n",
    "            if np.random.rand() < 0.2:\n",
    "                d[i] = (d[i] + 1) % 2\n",
    "        new_data.append(d)\n",
    "    return np.array(new_data)\n",
    "\n",
    "def get_data():\n",
    "    # Number of different classes\n",
    "    num_classes = 10\n",
    "    classes = list(range(num_classes))\n",
    "    # Numberof samples in synthetic dataset\n",
    "    examples = 10000\n",
    "    # Max number of labels per sample. Minimum is 1\n",
    "    max_labels = 5\n",
    "    class_probabilities = np.array(\n",
    "        list(6 * np.exp(-i * 5 / num_classes) + 1 for i in range(num_classes))\n",
    "    )\n",
    "    class_probabilities /= class_probabilities.sum()\n",
    "    labels = [\n",
    "        np.random.choice(\n",
    "            classes, # Choose labels in 0..num_classes\n",
    "            size=np.random.randint(1, max_labels), # number of labels for this sample\n",
    "            p=class_probabilities,  # Probability of drawing each class\n",
    "            replace=False,  # A class can only occure once\n",
    "        )\n",
    "        for _ in range(examples)  # Do it `examples` times\n",
    "    ]\n",
    "    y_true = np.zeros((examples, num_classes)).astype(np.int64)\n",
    "    for i, l in enumerate(labels):\n",
    "        y_true[i][l] = 1\n",
    "    y_pred = alter_data(y_true)\n",
    "    return y_true, y_pred"
   ]
  },
  {
   "cell_type": "code",
   "execution_count": 3,
   "metadata": {},
   "outputs": [],
   "source": [
    "np.random.seed(0)\n",
    "y_true, y_pred = get_data()\n",
    "num_classes = y_true.shape[-1]"
   ]
  },
  {
   "cell_type": "code",
   "execution_count": 4,
   "metadata": {},
   "outputs": [],
   "source": [
    "# Current Implementation in FastAI library (modified to accept numpy arrays)\n",
    "def fbeta(y_pred, y_true, thresh:float=0.2, beta:float=2, eps:float=1e-9, sigmoid:bool=True) :\n",
    "    \"Computes the f_beta between `y_pred` and `y_true` in a multi-classification task.\"\n",
    "    beta2 = beta**2\n",
    "    if sigmoid: y_pred = y_pred.sigmoid()\n",
    "    y_pred = (y_pred>thresh)#.float()\n",
    "    y_true = y_true#.float()\n",
    "    TP = (y_pred*y_true).sum(axis=1)\n",
    "    prec = TP/(y_pred.sum(axis=1)+eps)\n",
    "    rec = TP/(y_true.sum(axis=1)+eps)\n",
    "    res = (prec*rec)/(prec*beta2+rec+eps)*(1+beta2)\n",
    "    return res.mean()"
   ]
  },
  {
   "cell_type": "code",
   "execution_count": 5,
   "metadata": {},
   "outputs": [],
   "source": [
    "# Modified fbeta with axis = 0\n",
    "def fbetaMod(y_pred, y_true, thresh:float=0.2, beta:float=2, eps:float=1e-9, sigmoid:bool=True) :\n",
    "    \"Computes the f_beta between `y_pred` and `y_true` in a multi-classification task.\"\n",
    "    beta2 = beta**2\n",
    "    if sigmoid: y_pred = y_pred.sigmoid()\n",
    "    y_pred = (y_pred>thresh)#.float()\n",
    "    y_true = y_true#.float()\n",
    "    TP = (y_pred*y_true).sum(axis=0)\n",
    "    prec = TP/(y_pred.sum(axis=0)+eps)\n",
    "    rec = TP/(y_true.sum(axis=0)+eps)\n",
    "    res = (prec*rec)/(prec*beta2+rec+eps)*(1+beta2)\n",
    "    return res.mean()"
   ]
  },
  {
   "cell_type": "code",
   "execution_count": 6,
   "metadata": {},
   "outputs": [
    {
     "name": "stdout",
     "output_type": "stream",
     "text": [
      "\n",
      "FastAI f1 scores: (current, modified)   0.6374086212650519 0.6241802913905903\n"
     ]
    }
   ],
   "source": [
    "f1_current = fbeta(y_pred, y_true, beta=1, thresh=0, sigmoid=False)\n",
    "f1_modified = fbetaMod(y_pred, y_true, beta=1, thresh=0, sigmoid=False)\n",
    "print(\"{:40}\".format(\"\\nFastAI f1 scores: (current, modified)\"), f1_current, f1_modified)"
   ]
  },
  {
   "cell_type": "code",
   "execution_count": 7,
   "metadata": {},
   "outputs": [
    {
     "name": "stdout",
     "output_type": "stream",
     "text": [
      "\n",
      "For reference, scikit f1 scores: (micro, macro, weighted) 0.665699032365699 0.6241802918567531 0.6868241897597981\n"
     ]
    }
   ],
   "source": [
    "mic = f1_score(y_true, y_pred, average=\"micro\")\n",
    "mac = f1_score(y_true, y_pred, average=\"macro\")\n",
    "wei = f1_score(y_true, y_pred, average=\"weighted\")\n",
    "print(\"{:40}\".format(\"\\nFor reference, scikit f1 scores: (micro, macro, weighted)\"), mic, mac, wei)"
   ]
  },
  {
   "cell_type": "code",
   "execution_count": null,
   "metadata": {},
   "outputs": [],
   "source": []
  }
 ],
 "metadata": {
  "kernelspec": {
   "display_name": "Python 3",
   "language": "python",
   "name": "python3"
  },
  "language_info": {
   "codemirror_mode": {
    "name": "ipython",
    "version": 3
   },
   "file_extension": ".py",
   "mimetype": "text/x-python",
   "name": "python",
   "nbconvert_exporter": "python",
   "pygments_lexer": "ipython3",
   "version": "3.7.0"
  }
 },
 "nbformat": 4,
 "nbformat_minor": 2
}
